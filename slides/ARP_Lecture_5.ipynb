{
 "cells": [
  {
   "cell_type": "markdown",
   "metadata": {
    "collapsed": true,
    "slideshow": {
     "slide_type": "slide"
    }
   },
   "source": [
    "# ARP Lecture 5\n",
    "\n",
    "**Introduction to CASMO-4**"
   ]
  },
  {
   "cell_type": "markdown",
   "metadata": {
    "slideshow": {
     "slide_type": "subslide"
    }
   },
   "source": [
    "### Readings:\n",
    " - CASMO-4 Manual\n",
    " - Reuss Ch. 10 (multigroup theory)\n",
    " - Reuss Ch. 14 (as a reference on neutron transport)"
   ]
  },
  {
   "cell_type": "markdown",
   "metadata": {
    "slideshow": {
     "slide_type": "subslide"
    }
   },
   "source": [
    "## CASMO-4 \n",
    "\n",
    "The basic sequence is:\n",
    "\n",
    " 1. **Resonance Calculation via Equivalence Theory**\n",
    " 2. **Macroscopic Cross-Section Generation**\n",
    " 3. Single-Pin, Fine-Group Calculation (for $\\phi_g(\\mathbf{r})$)\n",
    " 4. Pin-Cell Homogenization (Spatial/Energy Average)\n",
    " 5. *Whole-Assembly, Intermediate-Group Calculation*\n",
    " 6. *Correct Pin-wise Spectra and Collapse to Few-Group Data (8)*\n",
    " 7. Whole-Assembly, Hetergeneous Neutron Transport (MOC)\n",
    " 8. Collapse to two-group, assembly-averaged Data"
   ]
  },
  {
   "cell_type": "markdown",
   "metadata": {
    "slideshow": {
     "slide_type": "subslide"
    }
   },
   "source": [
    "## A First Input\n",
    "\n",
    "```\n",
    "TTL *Pin cell example\n",
    "TFU=293 TMO=293 BOR=550   *Statepoint parameters\n",
    "FUE 1 10.1/3.2            *Fuel density/enrichment\n",
    "PIC .49 .55 .81           *Pin cell radii\n",
    "PDE 30\n",
    "DEP -40\n",
    "STA                       *Start execution\n",
    "END                       *End of input\n",
    "```"
   ]
  }
 ],
 "metadata": {
  "celltoolbar": "Slideshow",
  "kernelspec": {
   "display_name": "Python 3",
   "language": "python",
   "name": "python3"
  },
  "language_info": {
   "codemirror_mode": {
    "name": "ipython",
    "version": 3
   },
   "file_extension": ".py",
   "mimetype": "text/x-python",
   "name": "python",
   "nbconvert_exporter": "python",
   "pygments_lexer": "ipython3",
   "version": "3.6.3"
  },
  "livereveal": {
   "scroll": true
  }
 },
 "nbformat": 4,
 "nbformat_minor": 2
}
