{
 "cells": [
  {
   "cell_type": "markdown",
   "metadata": {
    "slideshow": {
     "slide_type": "slide"
    }
   },
   "source": [
    "# ARP Lecture 6\n",
    "\n",
    "**Effects of Temperature, Depletion, and Boron Effects**"
   ]
  },
  {
   "cell_type": "markdown",
   "metadata": {
    "slideshow": {
     "slide_type": "slide"
    }
   },
   "source": [
    "## An Exercise\n",
    "\n",
    "```\n",
    "TTL *Pin cell example\n",
    "TFU=293 TMO=293 BOR=550   *Statepoint parameters\n",
    "FUE 1 10.1/3.2            *Fuel density/enrichment\n",
    "PIC .49 .55 .81           *Pin cell radii\n",
    "PDE 30\n",
    "DEP -40\n",
    "STA                       *Start execution\n",
    "END                       *End of input\n",
    "```\n",
    "\n",
    "For our standard pin, determine the critical boron concentration assuming 5% leakage.  How does the P/D curve change as a function of boron?"
   ]
  },
  {
   "cell_type": "markdown",
   "metadata": {
    "slideshow": {
     "slide_type": "slide"
    }
   },
   "source": [
    "## Reactivity Coefficients\n",
    "\n",
    "Recall, reactivity is defined as\n",
    "\n",
    "$$\n",
    "  \\rho = \\frac{k-1}{k} \\, .\n",
    "$$\n",
    "\n",
    "Units often %, pcm (percent-milli, e.g. $\\rho=0.001$ is 100 pcm), or $ (\\rho/\\beta).  "
   ]
  },
  {
   "cell_type": "markdown",
   "metadata": {
    "slideshow": {
     "slide_type": "subslide"
    }
   },
   "source": [
    "Often, we want to understand changes in $\\rho$ given some perturbation in temperature:\n",
    "\n",
    "$$\n",
    "\\alpha_{T_f} = \\frac{d\\rho}{d T_f} = \\frac{1}{k^2} \\frac{dk}{dT_f} \\approx \\frac{1}{k}\\frac{dk}{dT_f} \\, .\n",
    "$$\n",
    "\n",
    "With four factors, that's\n",
    "\n",
    "$$\n",
    "\\alpha_{T_f} \\approx \\frac{1}{\\eta} \\frac{d\\eta}{dT_f} +  \n",
    "             \\frac{1}{f} \\frac{df}{dT_f} + \n",
    "             \\frac{1}{p} \\frac{dp}{dT_f} + \n",
    "             \\frac{1}{\\epsilon} \\frac{d\\epsilon}{dT_f} \\, .\n",
    "$$"
   ]
  },
  {
   "cell_type": "code",
   "execution_count": null,
   "metadata": {
    "collapsed": true
   },
   "outputs": [],
   "source": []
  }
 ],
 "metadata": {
  "celltoolbar": "Slideshow",
  "kernelspec": {
   "display_name": "Python 3",
   "language": "python",
   "name": "python3"
  },
  "language_info": {
   "codemirror_mode": {
    "name": "ipython",
    "version": 3
   },
   "file_extension": ".py",
   "mimetype": "text/x-python",
   "name": "python",
   "nbconvert_exporter": "python",
   "pygments_lexer": "ipython3",
   "version": "3.6.3"
  },
  "livereveal": {
   "scroll": true
  }
 },
 "nbformat": 4,
 "nbformat_minor": 2
}
