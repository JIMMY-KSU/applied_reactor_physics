{
 "cells": [
  {
   "cell_type": "markdown",
   "metadata": {
    "slideshow": {
     "slide_type": "slide"
    }
   },
   "source": [
    "# ARP - Lecture 3\n",
    "\n",
    "**Generation of Multigroup Cross Sections**"
   ]
  },
  {
   "cell_type": "markdown",
   "metadata": {
    "slideshow": {
     "slide_type": "subslide"
    }
   },
   "source": [
    "Given a flux spectrum $\\phi(E)$, collapse a cross section $\\sigma_x(E)$ via\n",
    "\n",
    "$$\n",
    " \\sigma_{xg} = \\frac{ \\int^{E_{g-1}}_{E_{g}} \\phi(E) \\sigma_x(E) dE }\n",
    "                    { \\int^{E_{g-1}}_{E_{g}} \\phi(E) dE } \\, \\, ,\n",
    "$$\n",
    "\n",
    "where $E_0$ is the upper bound energy (e.g., 10 MeV) and $g$ is the group index that grows with lower energy."
   ]
  },
  {
   "cell_type": "markdown",
   "metadata": {
    "slideshow": {
     "slide_type": "subslide"
    }
   },
   "source": [
    "Motivation:  why do this?  **Preserve reaction rates**.\n",
    "\n",
    "Total reaction rate in group $g$ is\n",
    "\n",
    "$$\n",
    "   R_g = N \\int^{E_{g-1}}_{E_{g}} \\phi(E) \\sigma_x(E) dE = N \\sigma_{xg} \\phi_g \\, ,\n",
    "$$\n",
    "\n",
    "where $N$ is the number density and \n",
    "\n",
    "$$\n",
    " \\phi_g = \\int^{E_{g-1}}_{E_{g}} \\phi(E) dE \n",
    "$$\n",
    "\n",
    "is the group $g$ flux (it is the integral, *not* the average)."
   ]
  },
  {
   "cell_type": "code",
   "execution_count": null,
   "metadata": {
    "collapsed": true
   },
   "outputs": [],
   "source": []
  }
 ],
 "metadata": {
  "celltoolbar": "Slideshow",
  "kernelspec": {
   "display_name": "Python 3",
   "language": "python",
   "name": "python3"
  },
  "language_info": {
   "codemirror_mode": {
    "name": "ipython",
    "version": 3
   },
   "file_extension": ".py",
   "mimetype": "text/x-python",
   "name": "python",
   "nbconvert_exporter": "python",
   "pygments_lexer": "ipython3",
   "version": "3.6.3"
  }
 },
 "nbformat": 4,
 "nbformat_minor": 2
}
