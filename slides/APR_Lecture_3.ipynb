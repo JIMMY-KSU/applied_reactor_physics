{
 "cells": [
  {
   "cell_type": "markdown",
   "metadata": {
    "slideshow": {
     "slide_type": "slide"
    }
   },
   "source": [
    "# ARP - Lecture 3\n",
    "\n",
    "**Generation of Multigroup Cross Sections**"
   ]
  },
  {
   "cell_type": "markdown",
   "metadata": {
    "slideshow": {
     "slide_type": "subslide"
    }
   },
   "source": [
    "Suggested Readings:\n",
    " - D&H, pp. 340--345 or so on NR and WR (NRIM) approximations\n",
    " - Reuss, Chapter 8.\n",
    " - GROUPR documentation\n"
   ]
  },
  {
   "cell_type": "markdown",
   "metadata": {
    "slideshow": {
     "slide_type": "subslide"
    }
   },
   "source": [
    "## The Multigroup Cross Section\n",
    "\n",
    "Given a flux spectrum $\\phi(E)$, collapse a cross section $\\sigma_x(E)$ via\n",
    "\n",
    "$$\n",
    " \\sigma_{xg} = \\frac{ \\int^{E_{g-1}}_{E_{g}} \\phi(E) \\sigma_x(E) dE }\n",
    "                    { \\int^{E_{g-1}}_{E_{g}} \\phi(E) dE } \\, \\, ,\n",
    "$$\n",
    "\n",
    "where $E_0$ is the upper bound energy (e.g., 10 MeV) and $g$ is the group index that grows with lower energy."
   ]
  },
  {
   "cell_type": "markdown",
   "metadata": {
    "slideshow": {
     "slide_type": "subslide"
    }
   },
   "source": [
    "## Goal: Preserve Reaction Rates\n",
    "\n",
    "Total reaction rate in group $g$ is\n",
    "\n",
    "$$\n",
    "   R_g = N \\int^{E_{g-1}}_{E_{g}} \\phi(E) \\sigma_x(E) dE = N \\sigma_{xg} \\phi_g \\, ,\n",
    "$$\n",
    "\n",
    "where $N$ is the number density and \n",
    "\n",
    "$$\n",
    " \\phi_g = \\int^{E_{g-1}}_{E_{g}} \\phi(E) dE \n",
    "$$\n",
    "\n",
    "is the group $g$ flux (it is the integral, *not* the average)."
   ]
  },
  {
   "cell_type": "markdown",
   "metadata": {
    "slideshow": {
     "slide_type": "subslide"
    }
   },
   "source": [
    "## Slowing-Down Equation\n",
    "\n",
    "$$\n",
    "\\begin{split} \n",
    "     \\Bigg ( N_r \\sigma_{t,r}(E) &+ \n",
    "             \\sum_{k\\neq r} N_k \\sigma_{s,k} \n",
    "     \\Bigg ) \\phi(E) = \\\\\n",
    "       & \\frac{1}{1-\\alpha_r} \n",
    "          \\int^{E/\\alpha_r}_E N_k \\sigma_{s,r} (E') \\phi(E') \\frac{dE'}{E'} \\\\\n",
    "       &+ \\sum_{k\\neq r} \\frac{1}{1-\\alpha_k} \n",
    "          \\int^{E/\\alpha_k}_E N_k \\sigma_{s,k} \\phi(E') \\frac{dE'}{E'} \\, ,\n",
    "\\end{split} \n",
    "$$"
   ]
  },
  {
   "cell_type": "markdown",
   "metadata": {
    "slideshow": {
     "slide_type": "subslide"
    }
   },
   "source": [
    "## Resonances are Narrow(ish)\n",
    "\n",
    "Assume the *practical* width of a resonance is always much smaller than the energy lost by a neutron scattering with all  non-resonant nuclides.  Then $\\phi \\propto 1/E$ in these non-resonant integrals so that\n",
    "\n",
    "$$\n",
    "\\begin{split}\n",
    "  \\frac{N_k \\sigma_{s,k}}{1-\\alpha_k}  \n",
    "       \\int^{E/\\alpha_k}_E  \\frac{1}{E'} \\frac{dE'}{E'}\n",
    "  &\\approx  \\frac{N_k \\sigma_{s,k}}{E} \\, .\n",
    "\\end{split}          \n",
    "$$"
   ]
  },
  {
   "cell_type": "markdown",
   "metadata": {
    "collapsed": true,
    "slideshow": {
     "slide_type": "subslide"
    }
   },
   "source": [
    "## Narrow Resonance Approximation\n",
    "\n",
    "Assume that $\\sigma_{s,r}(E) \\approx \\sigma_{s,r}$ and that the energy lost by elastic collisions with the resonance isotope is *large* compared to the resonance width.  The resulting spectrum is:\n",
    "\n",
    "$$\n",
    " \\phi_{\\text{NR}}(E) = \n",
    "   \\frac{ \\Sigma_{s,r} + \\Sigma_{s,nr} }{ \\Sigma_{t}(E) E } \n",
    "   \\propto \\frac{1}{N_r(\\sigma_{t,r}(E) + \\Sigma_{s,nr}/N_r)E} \\, ,\n",
    "$$\n",
    "\n",
    "where $\\Sigma_{s,nr} = \\sum_{k\\ne r} \\Sigma_{s, k}$ and $\\Sigma_{t,k}\\approx \\Sigma_{s,k}$, i.e., absorption in the non resonator is negligible."
   ]
  },
  {
   "cell_type": "markdown",
   "metadata": {
    "slideshow": {
     "slide_type": "subslide"
    }
   },
   "source": [
    "## Wide Resonance Approximation\n",
    "\n",
    "Assume now that the energy lost by a neutron scattering off the resonant nuclide is *negligible*. Then\n",
    "\n",
    "$$\n",
    "\\begin{split}\n",
    " \\lim_{\\alpha_r \\to 1} & \\left [ \\frac{1}{1-\\alpha_r} \n",
    "          \\int^{E/\\alpha_r}_E N_k \\sigma_{s,r} (E') \\phi(E') \\frac{dE'}{E'} \\right ] \\\\ \n",
    "  &\\approx  N_k \\sigma_{s,r} (E) \\phi(E) \\, .\n",
    "\\end{split}\n",
    "$$\n",
    "\n",
    "and\n",
    "\n",
    "$$\n",
    " \\phi_{\\text{WR}} = \\frac{\\sum\\limits_{k\\neq r} \\Sigma_{s,k} }{[\\Sigma_t(E) - \\Sigma_{s,r}(E)]E } \n",
    "     \\propto \\frac{1}{N_r(\\sigma_{a, r}(E)+\\Sigma_{s,nr}/N_r)E} \\, .\n",
    "$$"
   ]
  },
  {
   "cell_type": "markdown",
   "metadata": {},
   "source": [
    "## Dilution/Background Cross Section\n",
    "\n",
    "Define\n",
    "\n",
    "$$\n",
    "\\sigma_d = \\frac{\\Sigma_{s,nr}}{N_r} \\, ,\n",
    "$$\n",
    "\n",
    "which is the \"number of barns of moderator per fuel atom.\"  Then\n",
    "\n",
    "$$\n",
    "\\phi_{\\text{NR}}(E) = \\frac{1}{(\\sigma_{t,r}(E) + \\sigma_d)E} \\quad \\text{and}\\quad \\phi_{\\text{WR}} = \\frac{1}{(\\sigma_{a, r}(E)+\\sigma_d)E} \n",
    "$$\n"
   ]
  },
  {
   "cell_type": "code",
   "execution_count": null,
   "metadata": {
    "collapsed": true
   },
   "outputs": [],
   "source": []
  }
 ],
 "metadata": {
  "celltoolbar": "Slideshow",
  "kernelspec": {
   "display_name": "Python 3",
   "language": "python",
   "name": "python3"
  },
  "language_info": {
   "codemirror_mode": {
    "name": "ipython",
    "version": 3
   },
   "file_extension": ".py",
   "mimetype": "text/x-python",
   "name": "python",
   "nbconvert_exporter": "python",
   "pygments_lexer": "ipython3",
   "version": "3.6.3"
  }
 },
 "nbformat": 4,
 "nbformat_minor": 2
}
