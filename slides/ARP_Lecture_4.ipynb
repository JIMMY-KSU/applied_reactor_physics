{
 "cells": [
  {
   "cell_type": "markdown",
   "metadata": {
    "slideshow": {
     "slide_type": "slide"
    }
   },
   "source": [
    "# ARP - Lecture 4\n",
    "\n",
    "**Elements of Equivalence Theory**"
   ]
  },
  {
   "cell_type": "markdown",
   "metadata": {
    "slideshow": {
     "slide_type": "subslide"
    }
   },
   "source": [
    "### Readings:\n",
    " - Reuss, 8.3\n",
    " - Any reference on the diffusion equation"
   ]
  },
  {
   "cell_type": "markdown",
   "metadata": {
    "slideshow": {
     "slide_type": "subslide"
    }
   },
   "source": [
    "### Last Time\n",
    "\n",
    "Define\n",
    "\n",
    "$$\n",
    "\\sigma_d = \\frac{\\Sigma_{s,nr}}{N_r} \\, ,\n",
    "$$\n",
    "\n",
    "which is the \"number of barns of moderator per fuel atom.\"  Then\n",
    "\n",
    "$$\n",
    "\\phi_{\\text{NR}}(E) = \\frac{1}{(\\sigma_{t,r}(E) + \\sigma_d)E} \\quad \\text{and}\\quad \\phi_{\\text{WR}} = \\frac{1}{(\\sigma_{a, r}(E)+\\sigma_d)E} \n",
    "$$\n",
    "\n",
    "Then tabulate $\\sigma_{a,g}$ as a function of $\\sigma_d$ (and temperature)."
   ]
  },
  {
   "cell_type": "markdown",
   "metadata": {
    "slideshow": {
     "slide_type": "slide"
    }
   },
   "source": [
    "## Collision Probabilities\n",
    "\n",
    "The probability a neutron of energy $E$ makes it a distance $d$ in some homogeneous medium is\n",
    "\n",
    "$$\n",
    "  P(l) = e^{-\\Sigma_t(E)l} \\, .\n",
    "$$"
   ]
  },
  {
   "cell_type": "markdown",
   "metadata": {
    "slideshow": {
     "slide_type": "fragment"
    }
   },
   "source": [
    "Couple this with an isotropic point source at $\\mathbf{r}_0$:\n",
    "\n",
    "$$\n",
    "  P(\\overbrace{|\\mathbf{r}-\\mathbf{r}_0|}^{l}) = \\frac{e^{-\\overbrace{\\Sigma_t(E)|\\mathbf{r}-\\mathbf{r}_0|}^{\\tau}}}{4\\pi |\\mathbf{r}-\\mathbf{r}_0|^2}\n",
    "$$\n",
    "\n",
    "where $\\tau$ is often used for the \"optical path length.\""
   ]
  },
  {
   "cell_type": "markdown",
   "metadata": {
    "slideshow": {
     "slide_type": "subslide"
    }
   },
   "source": [
    "### Born Here, Die There\n",
    "\n",
    "Define\n",
    "\n",
    "$$\n",
    "  P_{ji} = \\frac{\\Sigma_{ti}(E)}{V_i} \\int_{V_j} dV' \\int_{V_i} dV P(l) \\, ,\n",
    "$$\n",
    "\n",
    "which is the probability that a neutron born *uniformly and isotropically* in region $j$ makes its first collision in region $i$.\n",
    "\n",
    "The notation is loose: recall (1) $l$ and $dV$ depend on $\\mathbf{r}$ and $\\mathbf{r}_0$ and (2) $P_{ji} = P_{ji}(E)$."
   ]
  },
  {
   "cell_type": "markdown",
   "metadata": {
    "slideshow": {
     "slide_type": "subslide"
    }
   },
   "source": [
    "### Useful Properties\n",
    "\n",
    "  - $\\frac{P_{ji}V_j}{\\Sigma_{ti}} = \\frac{P_{ij}V_i}{\\Sigma_{tj}}$ (reciprocity)\n",
    "  - $\\sum_i P_{ji} = 1$ (gotta die somewhere in an infinite lattice)"
   ]
  },
  {
   "cell_type": "markdown",
   "metadata": {
    "slideshow": {
     "slide_type": "subslide"
    }
   },
   "source": [
    "### Balance in Space\n",
    "\n",
    "Consider a generic, two-region unit cell comprised of fuel (f) and moderator (m).  Armed with $P_{fm}$, etc., we can write (equivalent to Reuss 8.35):\n",
    "\n",
    "$$\n",
    "   V_f S_f P_{ff} + V_m S_m P_{mf} = V_f \\Sigma_{tf} \\phi_f \\, ,\n",
    "$$\n",
    "\n",
    "where $S_i$ is the slowing-down source in region $i$, i.e., $\\frac{1}{1-\\alpha_i} \\int^{E/\\alpha_i}_E  \\Sigma_{s,i} (E') \\phi_i(E') \\frac{dE'}{E'}$ assuming just one material in the region.  "
   ]
  },
  {
   "cell_type": "markdown",
   "metadata": {
    "slideshow": {
     "slide_type": "subslide"
    }
   },
   "source": [
    "### Apply Reciprocity and Conservation\n",
    "\n",
    "Conservation gives $P_{ff} = (1-P_{fm})$, while reciprocity gives $P_{mf}V_m \\Sigma_{tm} = P_{fm}V_f \\Sigma_{tf}$, leading to\n",
    "\n",
    "$$\n",
    "   V_f S_f (1-P_{fm}) + S_m \\frac{P_{fm}V_f \\Sigma_{tf}}{\\Sigma_{tm}} = V_f \\Sigma_{tf} \\phi_f \\, ,\n",
    "$$\n",
    "\n",
    "Assume $\\Sigma_{tm} = \\Sigma_{sm}$ and that the NR approximation applies.  Then, $S_m = \\Sigma_{sm}/E$, $S_f = \\Sigma_{sf}/E$, and\n",
    "\n",
    "$$\n",
    "   \\frac{\\Sigma_{sf}}{E} [1-P_{fm}(E)] +  \\frac{P_{fm}(E) \\Sigma_{tf}(E)}{E} = \\Sigma_{tf}(E) \\phi_f(E) \\, .\n",
    "$$\n"
   ]
  },
  {
   "cell_type": "markdown",
   "metadata": {
    "slideshow": {
     "slide_type": "subslide"
    }
   },
   "source": [
    "### To Equivalence\n",
    "\n",
    "Divide by $1-P_{fm}$ to obtain\n",
    "$$\n",
    "  \\frac{\\Sigma_{sf}}{E}  +  \\overbrace{ \\left [ \\frac{P_{fm}(E) \\Sigma_{tf}(E)}{1-P_{fm}(E)} \\right ]}^{\\Sigma_e = N_f \\sigma_e} \\frac{1}{E} = \\frac{\\Sigma_{tf}(E)}{1-P_{fm}(E)} \\phi_f(E) \\, .\n",
    "$$\n",
    "\n",
    "or\n",
    "\n",
    "$$\n",
    "  \\left [ \\sigma_{tf}(E) + \\sigma_e(E) \\right ] \\phi_f(E) = \n",
    "      \\frac{\\sigma_{sf}}{E}\n",
    "        + \\frac{\\sigma_e(E)}{E} \\, .\n",
    "$$\n",
    "\n",
    "If we take $\\sigma_e(E) = \\sigma_e$, *do you see the magic*?"
   ]
  },
  {
   "cell_type": "markdown",
   "metadata": {
    "slideshow": {
     "slide_type": "fragment"
    }
   },
   "source": [
    "$$ \n",
    "  \\phi_f(E) = \\frac{1}{(\\sigma_{tf}(E) + \\sigma_e)E} \n",
    "$$\n",
    "\n",
    "...and you have $\\sigma_{xg} = \\frac{\\int_g \\phi_f(E)\\sigma_x(E) dE}{\\int_g \\phi_f(E) dE}$ already tabulated for $\\sigma_e$."
   ]
  },
  {
   "cell_type": "markdown",
   "metadata": {
    "slideshow": {
     "slide_type": "slide"
    }
   },
   "source": [
    "## Computing Collision Probabilities\n",
    "\n",
    "Realistically,\n",
    "$$\n",
    "  P_{ji} = \\frac{\\Sigma_{ti}(E)}{V_i} \\int_{V_j} dV' \\int_{V_i} dV P(l) \\, ,\n",
    "$$\n",
    "\n",
    "requires not much more than some fancy analytical or brute-force integration.  However, Wigner proposed this simple approximation:\n",
    "\n",
    "$$\n",
    "  P_{ff} \\approx \\frac{\\bar{l} \\Sigma_{tf}}{1 + \\bar{l}\\Sigma_{tf}} \\, ,\n",
    "$$\n",
    "where $\\bar{l} = 4V_f / A_f$ is the mean chord length and $A_f$ is the fuel lump's surface area. A chord is any path connect two points on the surface of the lump.  What's the mean chord length of an infinite slab of width $w$?"
   ]
  },
  {
   "cell_type": "markdown",
   "metadata": {
    "collapsed": true,
    "slideshow": {
     "slide_type": "subslide"
    }
   },
   "source": [
    "### The Diffusion Approximation\n",
    "\n",
    "First: when is diffusion a *good approximation*?"
   ]
  },
  {
   "cell_type": "markdown",
   "metadata": {
    "slideshow": {
     "slide_type": "fragment"
    }
   },
   "source": [
    "Answer: the flux is nearly linearly anisotropic (at most), and that's true away from boundaries, localized sources, and highly heterogeneous and absorbing material.  In reality, that means diffusion is not such a good approximation for collision probabilities, but it's use is a good way to apply the basic principles of balance."
   ]
  },
  {
   "cell_type": "markdown",
   "metadata": {
    "slideshow": {
     "slide_type": "subslide"
    }
   },
   "source": [
    "### A Simple Model\n",
    "\n",
    "To compute a collision probability requires the solution of an effectively one-group, purely-absorbing equation.  For simplicitly, consider a 1-D slab fuel pin.  The fuel region is defined between $x=0$ and $x=r$. The moderator is defined between $x=r$ and $x = p/2$.  Here, $r$ is the \"fuel radius\" and $p$ is the \"pitch.\"  \n",
    "\n",
    "For a 1-D slab, this equation is \n",
    "\n",
    "$$\n",
    "  -\\frac{d}{dx} D(x) \\frac{d}{dx} \\phi(x) + \\Sigma_t(x) \\phi(x) = S(x) \\, ,\n",
    "$$\n",
    "\n",
    "where $S(x) = \\frac{1}{r}$ for $x \\in [0, r]$ and $S(x) = 0$ otherwise.  The appropriate boundary conditions are $J(0) = -D \\frac{d\\phi}{dx}\\Big |_{x=0} = 0$ and either (1) $J(p) = 0$ for an infinite lattice or (2) $J_{in}(r) = \\frac{\\phi(r)}{4} + \\frac{J(r)}{2} = 0$ for an isolated pin cell (i.e., we ignore the moderator region in this latter case).  For the infinite lattice, the flux and current must be continuous at $x = r$.\n",
    "\n",
    "Note, both $D = 1/(3\\Sigma_t)$ and $\\Sigma_t$ are actually functions of $E$, i.e., we solve this equation for any value of $E$ for which $P_{fm}(E)$ is desired."
   ]
  },
  {
   "cell_type": "markdown",
   "metadata": {
    "slideshow": {
     "slide_type": "subslide"
    }
   },
   "source": [
    "### Getting $P_{fm}$ from Diffusion\n",
    "\n",
    "Solve the previous equation.  Then, note that\n",
    "\n",
    "$$\n",
    "   \\int^{p/2}_0 S(x) dx = \\int^{r}_0 S(x) dx = 1 \\, ,\n",
    "$$\n",
    "\n",
    "i.e., one neutron is born per second.  The collision rates are \n",
    "\n",
    "$$\n",
    "  R_f = \\int^{r}_0 \\Sigma_t(x, E)\\phi(E) dx \\quad \\text{and} \\quad R_m = \\int^{p/2}_r \\Sigma_t(x, E)\\phi(E) dx \\, .\n",
    "$$\n",
    "\n",
    "For an isolated pin, we have leakage in place of $R_m$:\n",
    "\n",
    "$$\n",
    "   L_f = J_{\\text{out}}(r) = J(r) - J_{\\text{in}}(r) = \\frac{\\phi(r)}{4} - \\frac{J(r)}{2} \\, .\n",
    "$$"
   ]
  },
  {
   "cell_type": "markdown",
   "metadata": {
    "slideshow": {
     "slide_type": "subslide"
    }
   },
   "source": [
    "### Maintaining Balance\n",
    "\n",
    "If we have solved everything correctly, we must conserve neutrons:\n",
    "\n",
    "$$\n",
    "   1 = R_f + R_m \\quad \\text{or} \\quad 1 = R_f + L_f \\, .\n",
    "$$\n",
    "\n",
    "Thus, we should have\n",
    "\n",
    "$$\n",
    "P_{ff} = \\frac{R_f}{R_f + R_m} = R_f \n",
    "$$\n",
    "\n",
    "and\n",
    "\n",
    "$$\n",
    "P_{fm} = 1 - R_f \\, .\n",
    "$$\n",
    "\n",
    "The case of the infinite lattice is more challenging!"
   ]
  },
  {
   "cell_type": "markdown",
   "metadata": {
    "slideshow": {
     "slide_type": "subslide"
    }
   },
   "source": [
    "### Final Result\n",
    "\n",
    "For the isolated fuel element, the diffusion approximation leads to:\n",
    "\n",
    "$$\n",
    "1 - \\frac{2 \\sqrt{3} (1 - e^{\\sqrt{3} \\tau}) }\n",
    "         {\\tau \\left[ \\left(3 + 2 \\sqrt{3}\\right) e^{\\sqrt{3} \\tau} - 2 \\sqrt{3} + 3\\right]} \n",
    "$$\n",
    "\n",
    "where $\\tau = 4 \\Sigma_{tf} r$.  Of course, $P_{fm} = 1 - P_{ff}$."
   ]
  },
  {
   "cell_type": "markdown",
   "metadata": {
    "slideshow": {
     "slide_type": "subslide"
    }
   },
   "source": [
    "### Other (More Accurate) Approximations\n",
    "\n",
    "First, define $\\bar{l} = 4V_f/S_f$ to be the mean chord length through the fuel region.  For our slab, $V_f = A\\cdot 2r$ while $S_f = 2A$ for some arbitrary surface area $A$. Hence, $\\bar{l} = 4(2Ar)/(2A) = 4r$ (i.e., twice the slab thickness).  Finally, define $\\tau = \\bar{l}\\Sigma_{tf} = 4\\Sigma_{tf} r$.  Then:\n",
    "\n",
    "- Wigner's \"rational approximation\" (J. Appl. Phys., **26**:3 (1954)): \n",
    "\n",
    "  $$\n",
    "      P_{ff} = \\frac{\\tau}{1+\\tau} \\quad \\text{or} \\quad P_{fm} = \\frac{1}{1+\\tau} \\, .\n",
    "  $$\n",
    "  \n",
    "  Consequently, $\\Sigma_e =  \\frac{1}{N_f}\\frac{ P_{fm}  \\Sigma_{tf} }{1-P_{fm} } = \\frac{\\Sigma_{tf}}{N_f} \\frac{1}{1+\\tau} \\frac{1+\\tau}{\\tau}  = \\frac{\\Sigma_{tf}}{N_f \\tau} = \\frac{1}{N_f \\bar{l}}$ and $\\sigma_e = \\frac{1}{\\bar{l}}$.\n",
    "  "
   ]
  },
  {
   "cell_type": "markdown",
   "metadata": {
    "slideshow": {
     "slide_type": "subslide"
    }
   },
   "source": [
    "- Bell's correction (Nucl. Sci. Eng., **5**:2 (1959)):\n",
    "\n",
    "  $$\n",
    "      P_{ff} = \\frac{\\tau}{b+\\tau} \\, ,\n",
    "  $$\n",
    "\n",
    "  where, usually, $b \\in [1, 1.5]$.  The original paper has an expression that depends on energy, but in practice, one selects a \"best\" value to keep it constant.  Moreover,\n",
    "  \n",
    "  $$\n",
    "     \\Sigma_{e} = \\frac{1}{N_f}\\frac{ P_{fm}  \\Sigma_{tf} }{1-P_{fm} } \n",
    "                = \\frac{b}{N_f \\bar{l}} \\,  \n",
    "           \\quad \\text{and} \\quad \\sigma_e = \\frac{b}{\\bar{l}} \\, .\n",
    "  $$"
   ]
  },
  {
   "cell_type": "markdown",
   "metadata": {
    "slideshow": {
     "slide_type": "subslide"
    }
   },
   "source": [
    "- Roman's two-term rational approximation (see Stammler and Abbate):\n",
    "\n",
    "  $$\n",
    "      P_{ff} = 1 - 1.1\\frac{1.4}{\\tau + 1.4} + 0.1\\frac{5.4}{\\tau+5.4} \\, ,\n",
    "  $$\n",
    "  \n",
    "  for which\n",
    "  \n",
    "  $$\n",
    "   \\sigma_e \\approx \\frac{0.3\\Sigma_tf}{\n",
    "  $$"
   ]
  },
  {
   "cell_type": "markdown",
   "metadata": {
    "slideshow": {
     "slide_type": "subslide"
    }
   },
   "source": [
    "\n",
    "- The exact expression (see, e.g., Stacey Eq. 3.149) :\n",
    "\n",
    "  $$\n",
    "     P_{ff} = 1 - \\frac{1}{\\tau}\\left ( \\frac{1}{2} - \\text{E}_3(\\tau) \\right ) \\, ,\n",
    "  $$\n",
    "  \n",
    "  where $\\text{E}_3$ is the third-order exponential integral.  Although simple, this expression does not have the form $1/(\\bar{l}\\Sigma_t)$ and, therefore, can not be used directly in the NR-based equivalence theory!  Neither can the diffusion-theory expression!"
   ]
  },
  {
   "cell_type": "code",
   "execution_count": 16,
   "metadata": {
    "slideshow": {
     "slide_type": "skip"
    }
   },
   "outputs": [
    {
     "name": "stderr",
     "output_type": "stream",
     "text": [
      "/home/robertsj/opt/anaconda3/lib/python3.6/site-packages/ipykernel_launcher.py:6: RuntimeWarning: overflow encountered in exp\n",
      "  \n",
      "/home/robertsj/opt/anaconda3/lib/python3.6/site-packages/ipykernel_launcher.py:6: RuntimeWarning: invalid value encountered in true_divide\n",
      "  \n"
     ]
    }
   ],
   "source": [
    "import numpy as np\n",
    "from scipy.special import expn\n",
    "tau = np.logspace(-3, 3)\n",
    "sqrt = np.sqrt\n",
    "exp = np.exp\n",
    "Pfm_diffusion = 2*sqrt(3)*(exp(sqrt(3)*tau)-1)/(tau*((3 + 2*sqrt(3))*exp(sqrt(3)*tau) - 2*sqrt(3) + 3))\n",
    "Pfm_wigner = 1-tau/(1+tau)\n",
    "Pfm_bell = 1-tau/(1.15+tau)\n",
    "Pfm_roman = 1.1*(1.4)/(tau+1.4)-0.1*(5.4)/(tau+5.4)\n",
    "Pfm_exact =  1/(tau*0.5)*(0.5 - expn(3, tau*0.5))"
   ]
  },
  {
   "cell_type": "code",
   "execution_count": 19,
   "metadata": {
    "slideshow": {
     "slide_type": "skip"
    }
   },
   "outputs": [
    {
     "data": {
      "image/png": "[encoded data removed]",
      "text/plain": [
       "<matplotlib.figure.Figure at 0x7efd7ef5cb00>"
      ]
     },
     "metadata": {},
     "output_type": "display_data"
    },
    {
     "data": {
      "image/png": "[encoded data removed]",
      "text/plain": [
       "<matplotlib.figure.Figure at 0x7efd7f2cb048>"
      ]
     },
     "metadata": {},
     "output_type": "display_data"
    }
   ],
   "source": [
    "import matplotlib.pyplot as plt\n",
    "\n",
    "plt.figure(1, figsize=(8,4))\n",
    "plt.semilogx(tau, Pfm_diffusion, 'k-', label='diffusion')\n",
    "plt.semilogx(tau, Pfm_wigner, 'b--', label='Wigner')\n",
    "plt.semilogx(tau, Pfm_bell, 'r-.', label='Bell ($b=1.15$)')\n",
    "plt.semilogx(tau, Pfm_roman, 'g:', label='Roman 2-term')\n",
    "plt.semilogx(tau, Pfm_exact, 'c--', label='Exact')\n",
    "plt.xlabel('$\\\\tau$ (mean free paths)',fontsize=16)\n",
    "plt.ylabel('$P_{\\mathrm{fm}}(\\\\tau)$', fontsize=16)\n",
    "plt.legend(fontsize=16)\n",
    "\n",
    "plt.figure(2, figsize=(8,4))\n",
    "plt.semilogx(tau, 100*(Pfm_diffusion-Pfm_exact)/Pfm_exact, 'k-', label='diffusion')\n",
    "plt.semilogx(tau, 100*(Pfm_wigner-Pfm_exact)/Pfm_exact, 'b--', label='Wigner')\n",
    "plt.semilogx(tau, 100*(Pfm_bell-Pfm_exact)/Pfm_exact, 'r-.', label='Bell ($b=1.15$)')\n",
    "plt.semilogx(tau, 100*(Pfm_roman-Pfm_exact)/Pfm_exact, 'g:', label='Roman 2-term')\n",
    "plt.xlabel('$\\\\tau$ (mean free paths)',fontsize=16)\n",
    "plt.ylabel('error (%)', fontsize=16)\n",
    "plt.legend(fontsize=16)\n",
    "\n",
    "plt.show()"
   ]
  },
  {
   "cell_type": "code",
   "execution_count": null,
   "metadata": {
    "collapsed": true,
    "slideshow": {
     "slide_type": "subslide"
    }
   },
   "outputs": [],
   "source": [
    "##"
   ]
  }
 ],
 "metadata": {
  "celltoolbar": "Slideshow",
  "kernelspec": {
   "display_name": "Python 3",
   "language": "python",
   "name": "python3"
  },
  "language_info": {
   "codemirror_mode": {
    "name": "ipython",
    "version": 3
   },
   "file_extension": ".py",
   "mimetype": "text/x-python",
   "name": "python",
   "nbconvert_exporter": "python",
   "pygments_lexer": "ipython3",
   "version": "3.6.3"
  },
  "livereveal": {
   "scroll": true
  }
 },
 "nbformat": 4,
 "nbformat_minor": 2
}
