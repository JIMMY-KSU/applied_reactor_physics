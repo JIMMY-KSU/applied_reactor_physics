{
 "cells": [
  {
   "cell_type": "markdown",
   "metadata": {
    "slideshow": {
     "slide_type": "slide"
    }
   },
   "source": [
    "# ARP - Lecture 4\n",
    "\n",
    "**Elements of Equivalence Theory**"
   ]
  },
  {
   "cell_type": "markdown",
   "metadata": {
    "slideshow": {
     "slide_type": "subslide"
    }
   },
   "source": [
    "Readings:\n",
    " - Reuss, 8.3\n"
   ]
  },
  {
   "cell_type": "markdown",
   "metadata": {
    "slideshow": {
     "slide_type": "subslide"
    }
   },
   "source": [
    "## Last Time\n",
    "\n",
    "Define\n",
    "\n",
    "$$\n",
    "\\sigma_d = \\frac{\\Sigma_{s,nr}}{N_r} \\, ,\n",
    "$$\n",
    "\n",
    "which is the \"number of barns of moderator per fuel atom.\"  Then\n",
    "\n",
    "$$\n",
    "\\phi_{\\text{NR}}(E) = \\frac{1}{(\\sigma_{t,r}(E) + \\sigma_d)E} \\quad \\text{and}\\quad \\phi_{\\text{WR}} = \\frac{1}{(\\sigma_{a, r}(E)+\\sigma_d)E} \n",
    "$$\n",
    "\n",
    "Then tabulate $\\sigma_{a,g}$ as a function of $\\sigma_d$ (and temperature)."
   ]
  },
  {
   "cell_type": "markdown",
   "metadata": {
    "slideshow": {
     "slide_type": "slide"
    }
   },
   "source": [
    "## Collision Probabilities\n",
    "\n",
    "The probability a neutron of energy $E$ makes it a distance $d$ in some homogeneous medium is\n",
    "\n",
    "$$\n",
    "  P(l) = e^{-\\Sigma_t(E)l} \\, .\n",
    "$$"
   ]
  },
  {
   "cell_type": "markdown",
   "metadata": {
    "slideshow": {
     "slide_type": "fragment"
    }
   },
   "source": [
    "Couple this with an isotropic point source at $\\mathbf{r}_0$:\n",
    "\n",
    "$$\n",
    "  P(\\overbrace{|\\mathbf{r}-\\mathbf{r}_0|}^{l}) = \\frac{e^{-\\overbrace{\\Sigma_t(E)|\\mathbf{r}-\\mathbf{r}_0|}^{\\tau}}}{4\\pi |\\mathbf{r}-\\mathbf{r}_0|^2}\n",
    "$$\n",
    "\n",
    "where $\\tau$ is often used for the \"optical path length.\""
   ]
  },
  {
   "cell_type": "markdown",
   "metadata": {
    "slideshow": {
     "slide_type": "subslide"
    }
   },
   "source": [
    "## Born Here, Die There\n",
    "\n",
    "Define\n",
    "\n",
    "$$\n",
    "  P_{ji} = \\frac{\\Sigma_{ti}(E)}{V_i} \\int_{V_j} dV' \\int_{V_i} dV P(l) \\, ,\n",
    "$$\n",
    "\n",
    "which is the probability that a neutron born *uniformly and isotropically* in region $j$ makes its first collision in region $i$.\n",
    "\n",
    "The notation is loose: recall (1) $l$ and $dV$ depend on $\\mathbf{r}$ and $\\mathbf{r}_0$ and (2) $P_{ji} = P_{ji}(E)$."
   ]
  },
  {
   "cell_type": "markdown",
   "metadata": {
    "slideshow": {
     "slide_type": "subslide"
    }
   },
   "source": [
    "## Useful Properties\n",
    "\n",
    "  - $\\frac{P_{ji}V_j}{\\Sigma_{ti}} = \\frac{P_{ij}V_i}{\\Sigma_{tj}}$ (reciprocity)\n",
    "  - $\\sum_i P_{ji} = 1$ (gotta die somewhere in an infinite lattice)"
   ]
  },
  {
   "cell_type": "markdown",
   "metadata": {
    "slideshow": {
     "slide_type": "subslide"
    }
   },
   "source": [
    "## Balance in Space\n",
    "\n",
    "Consider a generic, two-region unit cell comprised of fuel (f) and moderator (m).  Armed with $P_{fm}$, etc., we can write (equivalent to Reuss 8.35):\n",
    "\n",
    "$$\n",
    "   V_f S_f P_{ff} + V_m S_m P_{mf} = V_f \\Sigma_{tf} \\phi_f \\, ,\n",
    "$$\n",
    "\n",
    "where $S_i$ is the slowing-down source in region $i$, i.e., $\\frac{1}{1-\\alpha_i} \\int^{E/\\alpha_i}_E  \\Sigma_{s,i} (E') \\phi_i(E') \\frac{dE'}{E'}$ assuming just one material in the region.  "
   ]
  },
  {
   "cell_type": "markdown",
   "metadata": {
    "slideshow": {
     "slide_type": "subslide"
    }
   },
   "source": [
    "## Apply Reciprocity and Conservation\n",
    "\n",
    "Conservation gives $P_{ff} = (1-P_{fm})$, while reciprocity gives $P_{mf}V_m \\Sigma_{tm} = P_{fm}V_f \\Sigma_{tf}$, leading to\n",
    "\n",
    "$$\n",
    "   V_f S_f (1-P_{fm}) + S_m \\frac{P_{fm}V_f \\Sigma_{tf}}{\\Sigma_{tm}} = V_f \\Sigma_{tf} \\phi_f \\, ,\n",
    "$$\n",
    "\n",
    "Assume $\\Sigma_{tm} = \\Sigma_{sm}$ and that the NR approximation applies.  Then, $S_m = \\Sigma_{sm}/E$, $S_f = \\Sigma_{sf}/E$, and\n",
    "\n",
    "$$\n",
    "   \\frac{\\Sigma_{sf}}{E} [1-P_{fm}(E)] +  \\frac{P_{fm}(E) \\Sigma_{tf}(E)}{E} = \\Sigma_{tf}(E) \\phi_f(E) \\, .\n",
    "$$\n"
   ]
  },
  {
   "cell_type": "markdown",
   "metadata": {
    "slideshow": {
     "slide_type": "subslide"
    }
   },
   "source": [
    "## To Equivalence\n",
    "\n",
    "Divide by $1-P_{fm}$ to obtain\n",
    "$$\n",
    "  \\frac{\\Sigma_{sf}}{E}  +  \\overbrace{ \\left [ \\frac{P_{fm}(E) \\Sigma_{tf}(E)}{1-P_{fm}(E)} \\right ]}^{\\Sigma_e = N_f \\sigma_e} \\frac{1}{E} = \\frac{\\Sigma_{tf}(E)}{1-P_{fm}(E)} \\phi_f(E) \\, .\n",
    "$$\n",
    "\n",
    "or\n",
    "\n",
    "$$\n",
    "  \\left [ \\sigma_{tf}(E) + \\sigma_e(E) \\right ] \\phi_f(E) = \n",
    "      \\frac{\\sigma_{sf}}{E}\n",
    "        + \\frac{\\sigma_e(E)}{E} \\, .\n",
    "$$\n",
    "\n",
    "If we take $\\sigma_e(E) = \\sigma_e$, *do you see the magic*?"
   ]
  },
  {
   "cell_type": "markdown",
   "metadata": {
    "slideshow": {
     "slide_type": "fragment"
    }
   },
   "source": [
    "$$ \n",
    "  \\phi_f(E) = \\frac{1}{(\\sigma_{tf}(E) + \\sigma_e)E} \n",
    "$$\n",
    "\n",
    "...and you have $\\sigma_{xg} = \\frac{\\int_g \\phi_f(E)\\sigma_x(E) dE}{\\int_g \\phi_f(E) dE}$ already tabulated for $\\sigma_e$."
   ]
  },
  {
   "cell_type": "markdown",
   "metadata": {
    "slideshow": {
     "slide_type": "slide"
    }
   },
   "source": [
    "## Computing Collision Probabilities\n",
    "\n",
    "Realistically,\n",
    "$$\n",
    "  P_{ji} = \\frac{\\Sigma_{ti}(E)}{V_i} \\int_{V_j} dV' \\int_{V_i} dV P(l) \\, ,\n",
    "$$\n",
    "\n",
    "requires not much more than some fancy analytical or brute-force integration.  However, Wigner proposed this simple approximation:\n",
    "\n",
    "$$\n",
    "  P_{ff} \\approx \\frac{\\bar{l} \\Sigma_{tf}}{1 + \\bar{l}\\Sigma_{tf}} \\, ,\n",
    "$$\n",
    "where $\\bar{l} = 4V_f / A_f$ is the mean chord length and $A_f$ is the fuel lump's surface area. A chord is any path connect two points on the surface of the lump.  What's the mean chord length of an infinite slab of width $w$?"
   ]
  },
  {
   "cell_type": "code",
   "execution_count": null,
   "metadata": {
    "collapsed": true
   },
   "outputs": [],
   "source": []
  }
 ],
 "metadata": {
  "celltoolbar": "Slideshow",
  "kernelspec": {
   "display_name": "Python 3",
   "language": "python",
   "name": "python3"
  },
  "language_info": {
   "codemirror_mode": {
    "name": "ipython",
    "version": 3
   },
   "file_extension": ".py",
   "mimetype": "text/x-python",
   "name": "python",
   "nbconvert_exporter": "python",
   "pygments_lexer": "ipython3",
   "version": "3.6.3"
  },
  "livereveal": {
   "scroll": true
  }
 },
 "nbformat": 4,
 "nbformat_minor": 2
}
