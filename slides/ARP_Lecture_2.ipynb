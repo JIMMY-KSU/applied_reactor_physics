{
 "cells": [
  {
   "cell_type": "markdown",
   "metadata": {
    "slideshow": {
     "slide_type": "slide"
    }
   },
   "source": [
    "# ARP - Lecture 2\n",
    "\n",
    "January 25, 2018"
   ]
  },
  {
   "cell_type": "markdown",
   "metadata": {
    "slideshow": {
     "slide_type": "subslide"
    }
   },
   "source": [
    "## Objectives\n",
    "\n",
    "- Students will understand the basic workflow of NJOY\n",
    "- Students will understand the basics of cross-section reconstruction using NJOY\n",
    "- Students will understand the basics of resonances and the impact of temperature of those resonances"
   ]
  },
  {
   "cell_type": "markdown",
   "metadata": {
    "slideshow": {
     "slide_type": "subslide"
    }
   },
   "source": [
    "## Readings\n",
    "\n",
    "- NJOY User Manual, Chapters 1--5\n",
    "- Reuss, Sections 2.7 and 8.5 (on resonances and the Doppler effect)"
   ]
  },
  {
   "cell_type": "markdown",
   "metadata": {
    "slideshow": {
     "slide_type": "slide"
    }
   },
   "source": [
    "## Breit-Wigner\n",
    "\n",
    "Resonance capture cross section:\n",
    "\n",
    "$$\n",
    "  \\sigma_{\\gamma}(E) = \\sigma_0 \\frac{\\Gamma_{\\gamma}}{\\Gamma} \\left (\\frac{E_0}{E} \\right )^{1/2} \\frac{1}{1+y^2} \\, ,\n",
    "$$\n",
    "\n",
    "where $y = \\frac{2}{\\gamma} (E-E_0)$, $\\sigma_0 = 2 \\lambda \\frac{\\Gamma_n}{\\Gamma} g$, and $g = (2J+1)/(2(2I+1))$."
   ]
  },
  {
   "cell_type": "markdown",
   "metadata": {
    "slideshow": {
     "slide_type": "subslide"
    }
   },
   "source": [
    "### Selected Resonance Parameters of U-238\n",
    "\n",
    "(From BNL.  Use Sigma and click on resonance parameters link.)\n",
    "\n",
    "```\n",
    "           E          J         GN         GG        GFA        GFB\n",
    "  ---------- ---------- ---------- ---------- ---------- ----------\n",
    "  6.673491+0 5.000000-1 1.475792-3 2.300000-2 0.000000+0 9.990000-9\n",
    "  2.087152+1 5.000000-1 1.009376-2 2.286379-2 5.420000-8 0.000000+0\n",
    "  3.668212+1 5.000000-1 3.354568-2 2.300225-2 0.000000+0 9.770000-9\n",
    "```\n",
    "\n",
    "Where $E$ is resonance energy (eV), $J$ is statistical spin factor"
   ]
  },
  {
   "cell_type": "code",
   "execution_count": 2,
   "metadata": {
    "slideshow": {
     "slide_type": "subslide"
    }
   },
   "outputs": [],
   "source": [
    "import numpy as np\n",
    "import matplotlib.pyplot as plt\n",
    "\n",
    "# potential cross section (in barns)\n",
    "sigma_p = 11.2934\n",
    "I = 0 # s wave\n",
    "E0, J, GN, GG, _, _ = np.loadtxt('u238.txt', unpack=True)\n",
    "G = GN+GG\n",
    "A = 238.0\n",
    "E = np.logspace(-1, 3, 10000)\n",
    "sigma_g = np.zeros_like(E)\n",
    "sigma_n = np.zeros_like(E)\n",
    "sigma_n[:] = sigma_p\n",
    "\n",
    "for i in range(len(E0)):\n",
    "    # statistical spin factor, where I=nuclear spint, J=total spin\n",
    "    g = (2*J[i]+1)/(2*(2*I+1))\n",
    "    \n",
    "    # total cross section at resonance energy (DH 2-36)\n",
    "    sigma_0 = 2.608e6 * (A+1)**2/(A**2 * E0[i]) * (GN[i]/G[i]) * g\n",
    "     \n",
    "    # capture cross section (DH 2-35)\n",
    "    y = (2/G[i])*(E - E0[i])\n",
    "    sigma_g += sigma_0 * (GN[i]/G[i]) * np.sqrt(E0[i]/E) * (1/(1+y**2))"
   ]
  },
  {
   "cell_type": "code",
   "execution_count": 3,
   "metadata": {
    "slideshow": {
     "slide_type": "subslide"
    }
   },
   "outputs": [
    {
     "data": {
      "image/png": "[encoded data removed]",
      "text/plain": [
       "<matplotlib.figure.Figure at 0x7fb5eb7ebac8>"
      ]
     },
     "metadata": {},
     "output_type": "display_data"
    }
   ],
   "source": [
    "plt.loglog(E, sigma_g) \n",
    "plt.show()"
   ]
  },
  {
   "cell_type": "markdown",
   "metadata": {
    "slideshow": {
     "slide_type": "slide"
    }
   },
   "source": [
    "## Exploring NJOY"
   ]
  },
  {
   "cell_type": "markdown",
   "metadata": {
    "slideshow": {
     "slide_type": "fragment"
    }
   },
   "source": [
    "\n",
    "\n",
    "```\n",
    "moder  / Convert data on 20 to binary to 21, id is 9237\n",
    "20 -21\n",
    "reconr / Reconstruct cross sections onto 22\n",
    "-21 -22\n",
    "'PENDF TAPE FOR U-238'/\n",
    "9237 0/\n",
    "0.001  0.  0.005/ Reconstruction 0.1% (0.5% max) with 0K temp\n",
    "0 /\n",
    "stop\n",
    "```"
   ]
  }
 ],
 "metadata": {
  "celltoolbar": "Slideshow",
  "kernelspec": {
   "display_name": "Python 3",
   "language": "python",
   "name": "python3"
  },
  "language_info": {
   "codemirror_mode": {
    "name": "ipython",
    "version": 3
   },
   "file_extension": ".py",
   "mimetype": "text/x-python",
   "name": "python",
   "nbconvert_exporter": "python",
   "pygments_lexer": "ipython3",
   "version": "3.6.3"
  }
 },
 "nbformat": 4,
 "nbformat_minor": 2
}
