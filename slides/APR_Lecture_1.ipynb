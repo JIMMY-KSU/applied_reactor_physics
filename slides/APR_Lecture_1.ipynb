{
 "cells": [
  {
   "cell_type": "markdown",
   "metadata": {
    "slideshow": {
     "slide_type": "slide"
    }
   },
   "source": [
    "# ARP - Lecture 1\n",
    "\n",
    "**Overview of Nuclear Data and the ENDF Format**"
   ]
  },
  {
   "cell_type": "markdown",
   "metadata": {
    "slideshow": {
     "slide_type": "slide"
    }
   },
   "source": [
    "# Evaluated Nuclear Data Files (ENDF)"
   ]
  },
  {
   "cell_type": "markdown",
   "metadata": {
    "slideshow": {
     "slide_type": "subslide"
    }
   },
   "source": [
    "## ENDF MAT Numbers\n",
    "\n",
    "MAT numbers are computed from the target Z and A. The numbers step by threes to allow for isomers.  A 25 in the last two digits indicates the lightest of common istopes.  \n",
    "\n",
    "Examples:\n",
    "\n",
    "- H-1 is 125  (Z=1 and A=1 is the lightest, so 25)\n",
    "- U-235 is 9228 (Z=92, and U-234 is the lightest \"common\" U isotope)\n",
    "\n",
    "What would be the numbers for deuterium?  He-3?  U-238?"
   ]
  },
  {
   "cell_type": "markdown",
   "metadata": {
    "slideshow": {
     "slide_type": "subslide"
    }
   },
   "source": [
    "## ENDF MF Numbers\n",
    "\n",
    "ENDF files have several sections of data indexed by their MF number.  Common examples:\n",
    "\n",
    "| MF | Description |\n",
    "|---|---|\n",
    "| 1  |  descriptive and miscellaneous data|\n",
    "| 2  |  resonance parameters  |\n",
    "| 3  | reaction cross sections vs energy   | \n",
    "| 4 | angular distributions |\n",
    "| 5 | energy distributions |\n",
    "| 6 | energy-angle distributions |\n",
    "| 7 | thermal scattering data (i.e., S($\\alpha$, $\\beta$) data) |\n",
    "| 8 | radioactivity data |\n",
    "| 9-10 | nuclide production data |\n",
    "| 22-15 | photon production data |\n",
    "| 30-36 |  covariance data |\n",
    "\n",
    "We will primarily work with data corresponding to MF 3 when plotting ENDF data using NJOY, but it's good to be aware of the other files."
   ]
  },
  {
   "cell_type": "markdown",
   "metadata": {
    "slideshow": {
     "slide_type": "subslide"
    }
   },
   "source": [
    "## ENDF MT Numbers \n",
    "\n",
    "In the ENDF format MT numbers indicate reaction types.  Additional MT numbers are used for other sections, e.g., resonance parameters.  \n",
    "\n",
    "Important ones:\n",
    "\n",
    "| MT | Reaction |\n",
    "|---|---|\n",
    "| 1  |  (n, total) |\n",
    "| 2  |  (n, elastic)  |\n",
    "| 18  | (n, fission)   | \n",
    "| 22 | (n, alpha) |\n",
    "| 102 | (n, gamma) |\n"
   ]
  },
  {
   "cell_type": "markdown",
   "metadata": {
    "slideshow": {
     "slide_type": "slide"
    }
   },
   "source": [
    "# Remote Access to NJOY"
   ]
  },
  {
   "cell_type": "markdown",
   "metadata": {
    "slideshow": {
     "slide_type": "subslide"
    }
   },
   "source": [
    "## Basic Linux Commands\n",
    "\n",
    "```bash\n",
    "cp file1 file2       # copies file1 to the name file2\n",
    "mv file1 file2       # moves file2 to the name file2\n",
    "cd path/to/there     # changes to the location /path/to/there\n",
    "mkdir mydir          # creates a directory named mydir\n",
    "ls                   # list out the directory contents\n",
    "rm  file1            # removes (deletes) the file named file1\n",
    "```"
   ]
  },
  {
   "cell_type": "code",
   "execution_count": null,
   "metadata": {
    "collapsed": true
   },
   "outputs": [],
   "source": []
  }
 ],
 "metadata": {
  "celltoolbar": "Slideshow",
  "kernelspec": {
   "display_name": "Python 3",
   "language": "python",
   "name": "python3"
  },
  "language_info": {
   "codemirror_mode": {
    "name": "ipython",
    "version": 3
   },
   "file_extension": ".py",
   "mimetype": "text/x-python",
   "name": "python",
   "nbconvert_exporter": "python",
   "pygments_lexer": "ipython3",
   "version": "3.6.3"
  }
 },
 "nbformat": 4,
 "nbformat_minor": 2
}
